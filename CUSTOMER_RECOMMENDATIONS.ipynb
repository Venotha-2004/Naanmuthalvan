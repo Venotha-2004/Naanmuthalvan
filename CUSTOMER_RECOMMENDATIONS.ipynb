{
  "nbformat": 4,
  "nbformat_minor": 0,
  "metadata": {
    "colab": {
      "provenance": []
    },
    "kernelspec": {
      "name": "python3",
      "display_name": "Python 3"
    },
    "language_info": {
      "name": "python"
    }
  },
  "cells": [
    {
      "cell_type": "code",
      "execution_count": 1,
      "metadata": {
        "colab": {
          "base_uri": "https://localhost:8080/"
        },
        "id": "OF9NrNsdIEqp",
        "outputId": "09bbc356-9c42-41b2-c67c-ab27f59e6df7"
      },
      "outputs": [
        {
          "output_type": "stream",
          "name": "stdout",
          "text": [
            "Epoch 0: Loss = 0.4138916585464946\n",
            "Epoch 100: Loss = 0.2787723922359655\n",
            "Epoch 200: Loss = 0.2126375392085969\n",
            "Epoch 300: Loss = 0.1769726592039398\n",
            "Epoch 400: Loss = 0.15759019376164227\n",
            "Epoch 500: Loss = 0.14558601073453534\n",
            "Epoch 600: Loss = 0.13738281989125573\n",
            "Epoch 700: Loss = 0.13139883891302537\n",
            "Epoch 800: Loss = 0.12684221335688178\n",
            "Epoch 900: Loss = 0.123278014305268\n",
            "Recommendations for the new customer:\n",
            "[[6.75465823e-01 9.01469372e-01 4.33305860e-01 3.06305996e-02\n",
            "  1.59506546e-04]]\n"
          ]
        }
      ],
      "source": [
        "import numpy as np\n",
        "\n",
        "# Sample data (customer features and their preferences)\n",
        "# Each row represents a customer, and each column represents a feature or preference\n",
        "X_train = np.array([\n",
        "    [1, 0, 1, 1, 0],  # Customer 1: Likes feature 1, dislikes feature 2, likes feature 3, likes feature 4, dislikes feature 5\n",
        "    [0, 1, 0, 1, 1],  # Customer 2: Dislikes feature 1, likes feature 2, dislikes feature 3, likes feature 4, likes feature 5\n",
        "    [1, 1, 0, 0, 0],  # Customer 3: Likes feature 1, likes feature 2, dislikes feature 3, dislikes feature 4, dislikes feature 5\n",
        "    # Add more customer data as needed\n",
        "])\n",
        "\n",
        "# Labels (recommendations)\n",
        "# Each row represents the recommended product for the corresponding customer\n",
        "y_train = np.array([\n",
        "    [1, 0, 1, 0, 0],  # Customer 1: Recommends product 1 and product 3\n",
        "    [0, 1, 0, 1, 0],  # Customer 2: Recommends product 2 and product 4\n",
        "    [1, 1, 0, 0, 0],  # Customer 3: Recommends product 1 and product 2\n",
        "    # Add more recommendation data as needed\n",
        "])\n",
        "\n",
        "# Define sigmoid activation function\n",
        "def sigmoid(x):\n",
        "    return 1 / (1 + np.exp(-x))\n",
        "\n",
        "# Define the ANN model parameters\n",
        "input_size = X_train.shape[1]\n",
        "hidden_size = 64\n",
        "output_size = y_train.shape[1]\n",
        "\n",
        "# Initialize weights and biases for the hidden layer\n",
        "weights_hidden = np.random.randn(input_size, hidden_size)\n",
        "biases_hidden = np.zeros(hidden_size)\n",
        "\n",
        "# Initialize weights and biases for the output layer\n",
        "weights_output = np.random.randn(hidden_size, output_size)\n",
        "biases_output = np.zeros(output_size)\n",
        "\n",
        "# Training parameters\n",
        "learning_rate = 0.01\n",
        "num_epochs = 1000\n",
        "\n",
        "# Training loop\n",
        "for epoch in range(num_epochs):\n",
        "    # Forward pass\n",
        "    hidden_output = sigmoid(np.dot(X_train, weights_hidden) + biases_hidden)\n",
        "    output = sigmoid(np.dot(hidden_output, weights_output) + biases_output)\n",
        "\n",
        "    # Backpropagation\n",
        "    output_error = output - y_train\n",
        "    output_delta = output_error * output * (1 - output)\n",
        "    hidden_error = np.dot(output_delta, weights_output.T)\n",
        "    hidden_delta = hidden_error * hidden_output * (1 - hidden_output)\n",
        "\n",
        "    # Update weights and biases\n",
        "    weights_output -= learning_rate * np.dot(hidden_output.T, output_delta)\n",
        "    biases_output -= learning_rate * np.sum(output_delta, axis=0)\n",
        "    weights_hidden -= learning_rate * np.dot(X_train.T, hidden_delta)\n",
        "    biases_hidden -= learning_rate * np.sum(hidden_delta, axis=0)\n",
        "\n",
        "    # Calculate and print the loss\n",
        "    loss = np.mean(np.abs(output_error))\n",
        "    if epoch % 100 == 0:\n",
        "        print(f'Epoch {epoch}: Loss = {loss}')\n",
        "\n",
        "# Make recommendations for new customers\n",
        "# Replace the features below with the features of the new customer\n",
        "new_customer_features = np.array([[1, 0, 0, 1, 1]])  # Example features for a new customer\n",
        "\n",
        "# Forward pass for the new customer\n",
        "hidden_output = sigmoid(np.dot(new_customer_features, weights_hidden) + biases_hidden)\n",
        "recommendations = sigmoid(np.dot(hidden_output, weights_output) + biases_output)\n",
        "\n",
        "# Print the recommendations\n",
        "print(\"Recommendations for the new customer:\")\n",
        "print(recommendations)"
      ]
    }
  ]
}